{
 "cells": [
  {
   "cell_type": "markdown",
   "metadata": {},
   "source": [
    "This Code loads the trained model and predicts one bounding box per image given"
   ]
  },
  {
   "cell_type": "code",
   "execution_count": 1,
   "metadata": {},
   "outputs": [],
   "source": [
    "from tensorflow.keras.preprocessing.image import img_to_array\n",
    "from tensorflow.keras.preprocessing.image import load_img\n",
    "from tensorflow.keras.models import load_model\n",
    "import numpy as np\n",
    "import mimetypes\n",
    "import argparse\n",
    "import imutils\n",
    "import cv2\n",
    "import os"
   ]
  },
  {
   "cell_type": "code",
   "execution_count": 2,
   "metadata": {},
   "outputs": [],
   "source": [
    "# Path to output model\n",
    "BASE_OUTPUT = \"output\"\n",
    "# define the path to the output serialized model \n",
    "MODEL_PATH = os.path.sep.join([BASE_OUTPUT, \"detector.h5\"])"
   ]
  },
  {
   "cell_type": "markdown",
   "metadata": {},
   "source": [
    "Now let's add some test pictures and see the prediction from the model"
   ]
  },
  {
   "cell_type": "code",
   "execution_count": 3,
   "metadata": {},
   "outputs": [
    {
     "name": "stdout",
     "output_type": "stream",
     "text": [
      "[INFO] loading object detector...\n",
      "WARNING:tensorflow:Error in loading the saved optimizer state. As a result, your model is starting with a freshly initialized optimizer.\n",
      "[0.47797608 0.5220239 ]\n",
      "show output\n",
      "[0.36127093 0.6387291 ]\n",
      "show output\n",
      "[0.14873002 0.85126996]\n",
      "show output\n",
      "[0.5044862  0.49551377]\n",
      "show output\n",
      "[0.5044862  0.49551377]\n",
      "show output\n",
      "[0.5044862  0.49551377]\n",
      "show output\n",
      "[0.5044862  0.49551377]\n",
      "show output\n",
      "[0.4682747 0.5317253]\n",
      "show output\n",
      "[0.5044862  0.49551377]\n",
      "show output\n",
      "[0.5044862  0.49551377]\n",
      "show output\n",
      "[0.48711178 0.51288825]\n",
      "show output\n",
      "[0.01804403 0.98195595]\n",
      "show output\n",
      "[0.05232869 0.9476713 ]\n",
      "show output\n",
      "[0.03713251 0.96286756]\n",
      "show output\n",
      "[0.03782254 0.9621775 ]\n",
      "show output\n",
      "[0.41760904 0.58239096]\n",
      "show output\n"
     ]
    }
   ],
   "source": [
    "\n",
    "imagePaths=[r'dataset\\archive\\test\\11.jpg',\n",
    "            r'dataset\\archive\\test\\12.jpg',\n",
    "            r'dataset\\archive\\test\\28.jpg',\n",
    "            r'dataset\\archive\\test\\45.jpg',\n",
    "            r'dataset\\archive\\test\\60.jpg',\n",
    "            r'dataset\\archive\\test\\66.jpg',\n",
    "            r'dataset\\archive\\test\\67.jpg',\n",
    "            r'dataset\\archive\\test\\72.jpg',\n",
    "            r'dataset\\archive\\test\\test1.jpg',\n",
    "            r'dataset\\archive\\test\\test2.jpg',\n",
    "            r'dataset\\archive\\test\\test3.jpg',\n",
    "            r'dataset\\archive\\test\\0034.jpg',\n",
    "            r'dataset\\archive\\test\\0039.jpg',\n",
    "            r'dataset\\archive\\test\\0041.jpg',\n",
    "            r'dataset\\archive\\test\\0044.jpg',\n",
    "            r'dataset\\archive\\test\\test4.jpg'\n",
    "           ]\n",
    "\n",
    "print(\"[INFO] loading object detector...\")\n",
    "model = load_model(MODEL_PATH)\n",
    "# loop over the images that we'll be testing using our bounding box\n",
    "# regression model\n",
    "for i, imagePath in enumerate(imagePaths):\n",
    "    # load the input image (in Keras format) from disk and preprocess\n",
    "    # it, scaling the pixel intensities to the range [0, 1]\n",
    "    image = load_img(imagePath, target_size=(224, 224))\n",
    "    image = img_to_array(image) / 255.0\n",
    "    image = np.expand_dims(image, axis=0)\n",
    "\n",
    "    # make bounding box predictions on the input image\n",
    "    preds = model.predict(image)[1][0]\n",
    "    print(model.predict(image)[0][0])\n",
    "    (startX, startY, endX, endY) = preds\n",
    "    # load the input image (in OpenCV format), resize it such that it\n",
    "    # fits on our screen, and grab its dimensions\n",
    "    image = cv2.imread(imagePath)\n",
    "    image = imutils.resize(image, width=600)\n",
    "    (h, w) = image.shape[:2]\n",
    "    # scale the predicted bounding box coordinates based on the image\n",
    "    # dimensions\n",
    "    startX = int(startX * w)\n",
    "    startY = int(startY * h)\n",
    "    endX = int(endX * w)\n",
    "    endY = int(endY * h)\n",
    "    # draw the predicted bounding box on the image\n",
    "    cv2.rectangle(image, (startX, startY), (endX, endY),(0, 255, 0), 2)\n",
    "    # show the output image\n",
    "    print('show output')\n",
    "    cv2.imwrite(f'test{i}.jpg', image)\n",
    "    \n"
   ]
  },
  {
   "cell_type": "code",
   "execution_count": 4,
   "metadata": {},
   "outputs": [
    {
     "data": {
      "text/plain": [
       "[array([[0.05232869, 0.9476713 ]], dtype=float32),\n",
       " array([[0.09724692, 0.06601563, 0.11527702, 0.16154179]], dtype=float32)]"
      ]
     },
     "execution_count": 4,
     "metadata": {},
     "output_type": "execute_result"
    }
   ],
   "source": [
    "image = load_img(r'dataset\\archive\\test\\0039.jpg', target_size=(224, 224))\n",
    "image = img_to_array(image) / 255.0\n",
    "image = np.expand_dims(image, axis=0)\n",
    "model.predict(image)"
   ]
  }
 ],
 "metadata": {
  "kernelspec": {
   "display_name": "Python 3 (ipykernel)",
   "language": "python",
   "name": "python3"
  },
  "language_info": {
   "codemirror_mode": {
    "name": "ipython",
    "version": 3
   },
   "file_extension": ".py",
   "mimetype": "text/x-python",
   "name": "python",
   "nbconvert_exporter": "python",
   "pygments_lexer": "ipython3",
   "version": "3.9.7"
  }
 },
 "nbformat": 4,
 "nbformat_minor": 2
}
